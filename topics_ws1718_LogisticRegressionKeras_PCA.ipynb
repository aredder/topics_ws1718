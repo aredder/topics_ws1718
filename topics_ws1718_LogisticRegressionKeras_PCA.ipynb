{
 "cells": [
  {
   "cell_type": "code",
   "execution_count": 2,
   "metadata": {},
   "outputs": [
    {
     "name": "stdout",
     "output_type": "stream",
     "text": [
      "Downloading data from https://s3.amazonaws.com/img-datasets/mnist.npz\n",
      "[ 60.515738    25.77274885  11.76034246   6.23831354   2.10242587\n",
      "   1.16212677]\n",
      "[ 0.9195  0.9203  0.9178  0.9131  0.9023  0.8835]\n"
     ]
    }
   ],
   "source": [
    "import numpy as np\n",
    "import time\n",
    "\n",
    "from sklearn.decomposition import PCA\n",
    "from sklearn.linear_model import LogisticRegression\n",
    "from sklearn import manifold\n",
    "import matplotlib.pyplot as plt\n",
    "import tensorflow as tf\n",
    "\n",
    "# Load data and Preprocessing\n",
    "mnist = tf.contrib.keras.datasets.mnist\n",
    "\n",
    "(X_train, train_lbl), (X_test, test_lbl) = mnist.load_data()\n",
    "X_train = X_train / 255\n",
    "X_test = X_test / 255\n",
    "n_pixels = np.prod(X_train.shape[1:])\n",
    "train_img = X_train.reshape(X_train.shape[0], n_pixels).astype(np.float32)\n",
    "test_img = X_test.reshape(X_test.shape[0], n_pixels).astype(np.float32)\n",
    "\n",
    "percentage_variance = np.array([1, 0.99, 0.95, 0.9, 0.8, 0.7])\n",
    "resulting_prostime = np.zeros(6)\n",
    "resulting_accurasy = np.zeros(6)\n",
    "for i in range(6):\n",
    "    if i == 0:\n",
    "        train_img_t = train_img\n",
    "        test_img_t = test_img\n",
    "    else:\n",
    "        pca = PCA(percentage_variance[i])\n",
    "        pca.fit(train_img)\n",
    "        train_img_t = pca.transform(train_img)\n",
    "        test_img_t = pca.transform(test_img)\n",
    "\n",
    "    ## logisticRegression:\n",
    "    logisticRegr = LogisticRegression(solver = 'lbfgs')\n",
    "    tic = time.clock()\n",
    "    logisticRegr.fit(train_img_t, train_lbl)\n",
    "    toc = time.clock()\n",
    "    logisticRegr.predict(test_img_t[0].reshape(1,-1))\n",
    "    logisticRegr.predict(test_img_t[0:10])\n",
    "    score = logisticRegr.score(test_img_t, test_lbl)\n",
    "\n",
    "    resulting_prostime[i] = toc-tic\n",
    "    resulting_accurasy[i] = score\n",
    "\n",
    "print(resulting_prostime)\n",
    "print(resulting_accurasy)"
   ]
  },
  {
   "cell_type": "code",
   "execution_count": null,
   "metadata": {
    "collapsed": true
   },
   "outputs": [],
   "source": []
  }
 ],
 "metadata": {
  "kernelspec": {
   "display_name": "Python 3",
   "language": "python",
   "name": "python3"
  },
  "language_info": {
   "codemirror_mode": {
    "name": "ipython",
    "version": 3
   },
   "file_extension": ".py",
   "mimetype": "text/x-python",
   "name": "python",
   "nbconvert_exporter": "python",
   "pygments_lexer": "ipython3",
   "version": "3.6.3"
  }
 },
 "nbformat": 4,
 "nbformat_minor": 2
}
