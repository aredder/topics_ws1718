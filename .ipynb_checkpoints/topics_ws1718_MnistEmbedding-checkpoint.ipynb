{
 "cells": [
  {
   "cell_type": "code",
   "execution_count": 1,
   "metadata": {},
   "outputs": [
    {
     "ename": "ModuleNotFoundError",
     "evalue": "No module named 'mapalign_master'",
     "output_type": "error",
     "traceback": [
      "\u001b[1;31m---------------------------------------------------------------------------\u001b[0m",
      "\u001b[1;31mModuleNotFoundError\u001b[0m                       Traceback (most recent call last)",
      "\u001b[1;32m<ipython-input-1-570d5ea3ddbe>\u001b[0m in \u001b[0;36m<module>\u001b[1;34m()\u001b[0m\n\u001b[0;32m     10\u001b[0m \u001b[1;32mimport\u001b[0m \u001b[0mtensorflow\u001b[0m \u001b[1;32mas\u001b[0m \u001b[0mtf\u001b[0m\u001b[1;33m\u001b[0m\u001b[0m\n\u001b[0;32m     11\u001b[0m \u001b[1;31m#from mapalign.embed import DiffusionMapEmbedding\u001b[0m\u001b[1;33m\u001b[0m\u001b[1;33m\u001b[0m\u001b[0m\n\u001b[1;32m---> 12\u001b[1;33m \u001b[1;32mfrom\u001b[0m \u001b[0mmapalign_master\u001b[0m\u001b[1;33m.\u001b[0m\u001b[0mmapalign\u001b[0m\u001b[1;33m.\u001b[0m\u001b[0membed\u001b[0m \u001b[1;32mimport\u001b[0m \u001b[0mDiffusionMapEmbedding\u001b[0m\u001b[1;33m\u001b[0m\u001b[0m\n\u001b[0m\u001b[0;32m     13\u001b[0m \u001b[1;32mfrom\u001b[0m \u001b[0msklearn\u001b[0m\u001b[1;33m.\u001b[0m\u001b[0mmanifold\u001b[0m \u001b[1;32mimport\u001b[0m \u001b[0mSpectralEmbedding\u001b[0m\u001b[1;33m,\u001b[0m \u001b[0mTSNE\u001b[0m\u001b[1;33m\u001b[0m\u001b[0m\n\u001b[0;32m     14\u001b[0m \u001b[1;32mfrom\u001b[0m \u001b[0msklearn\u001b[0m\u001b[1;33m.\u001b[0m\u001b[0mcluster\u001b[0m \u001b[1;32mimport\u001b[0m \u001b[0mKMeans\u001b[0m\u001b[1;33m\u001b[0m\u001b[0m\n",
      "\u001b[1;31mModuleNotFoundError\u001b[0m: No module named 'mapalign_master'"
     ]
    }
   ],
   "source": [
    "import numpy as np\n",
    "import time\n",
    "from time import time\n",
    "from sklearn.decomposition import PCA\n",
    "from sklearn.linear_model import LogisticRegression\n",
    "import matplotlib.pyplot as plt\n",
    "from matplotlib import offsetbox\n",
    "from sklearn import (manifold, datasets, decomposition, ensemble,\n",
    "                     discriminant_analysis, random_projection)\n",
    "import tensorflow as tf\n",
    "\n",
    "from sklearn.manifold import SpectralEmbedding, TSNE\n",
    "from sklearn.cluster import KMeans\n",
    "\n",
    "# Scale and visualize the embedding vectors\n",
    "def plot_embedding(X,Y, title=None):\n",
    "    x_min, x_max = np.min(X, 0), np.max(X, 0)\n",
    "    X = (X - x_min) / (x_max - x_min)\n",
    "    plt.figure()\n",
    "    ax = plt.subplot(111)\n",
    "    for i in range(X.shape[0]):\n",
    "        plt.text(X[i, 0], X[i, 1], str(Y[i]),\n",
    "                 color=plt.cm.Set1(Y[i] / 10.),\n",
    "                 fontdict={'weight': 'bold', 'size': 9})\n",
    "    plt.xticks([]), plt.yticks([])\n",
    "    if title is not None:\n",
    "        plt.title(title)\n",
    "\n",
    "# Load data and Preprocessing\n",
    "mnist = tf.contrib.keras.datasets.mnist\n",
    "(X_train, train_lbl), (X_test, test_lbl) = mnist.load_data()\n",
    "X_train = X_train / 255\n",
    "X_test = X_test / 255\n",
    "n_pixels = np.prod(X_train.shape[1:])\n",
    "train_img = X_train.reshape(X_train.shape[0], n_pixels).astype(np.float32)\n",
    "test_img = X_test.reshape(X_test.shape[0], n_pixels).astype(np.float32)\n",
    "\n",
    "\n",
    "# Plot images of the digits\n",
    "n_img_per_row = 10\n",
    "img = np.zeros((30 * n_img_per_row, 30 * n_img_per_row))\n",
    "for i in range(n_img_per_row):\n",
    "    ix = 30 * i + 1\n",
    "    for j in range(n_img_per_row):\n",
    "        iy = 30 * j + 1\n",
    "        img[ix:ix + 28, iy:iy + 28] = X_train[i * n_img_per_row + j].reshape((28, 28))\n",
    "\n",
    "plt.imshow(img, cmap=plt.cm.binary)\n",
    "plt.xticks([])\n",
    "plt.yticks([])\n",
    "plt.title('A selection from the 784-dimensional digits dataset')\n",
    "\n",
    "train_temp = train_img[0:5000]\n",
    "lbl_temp = train_lbl[0:5000]\n",
    "# PCA\n",
    "t0 = time()\n",
    "X_pca = PCA(n_components=2).fit_transform(train_temp)\n",
    "plot_embedding(X_pca,lbl_temp, \"Principal Components projection of the digits (time %.2fs)\" %(time() - t0))\n",
    "\n",
    "# LLE\n",
    "#n_neighbors = 50\n",
    "#clf = manifold.LocallyLinearEmbedding(n_neighbors, n_components=2, method='standard')\n",
    "#t0 = time()\n",
    "#X_lle = clf.fit_transform(train_temp)\n",
    "#print(\"Done. Reconstruction error: %g\" % clf.reconstruction_error_)\n",
    "#plot_embedding(X_lle,lbl_temp,\"Locally Linear Embedding of the digits (time %.2fs)\" %(time() - t0))\n",
    "\n",
    "# Diffusion Maps\n",
    "#t0 = time()\n",
    "#X_diffusion = DiffusionMapEmbedding(alpha=1, diffusion_time=1, affinity='markov',n_components=2).fit_transform(train_temp.copy())\n",
    "#plot_embedding(X_diffusion,lbl_temp, \"Diffusion map projection of the digits (time %.2fs)\" %(time() - t0))\n",
    "\n",
    "\n",
    "# t-SNE embedding of the digits dataset\n",
    "#tsne = manifold.TSNE(n_components=2, init='pca', random_state=0)\n",
    "#t0 = time()\n",
    "#X_tsne = tsne.fit_transform(train_temp)\n",
    "#plot_embedding(X_tsne,lbl_temp, \"t-SNE embedding of the digits (time %.2fs)\" %(time() - t0))\n",
    "#plt.show()"
   ]
  },
  {
   "cell_type": "code",
   "execution_count": null,
   "metadata": {
    "collapsed": true
   },
   "outputs": [],
   "source": []
  }
 ],
 "metadata": {
  "kernelspec": {
   "display_name": "Python 3",
   "language": "python",
   "name": "python3"
  },
  "language_info": {
   "codemirror_mode": {
    "name": "ipython",
    "version": 3
   },
   "file_extension": ".py",
   "mimetype": "text/x-python",
   "name": "python",
   "nbconvert_exporter": "python",
   "pygments_lexer": "ipython3",
   "version": "3.6.3"
  }
 },
 "nbformat": 4,
 "nbformat_minor": 2
}
